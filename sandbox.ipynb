{
 "cells": [
  {
   "cell_type": "code",
   "execution_count": 1,
   "id": "9d6d89f7",
   "metadata": {},
   "outputs": [],
   "source": [
    "import pandas as pd\n",
    "import matplotlib as mpl\n",
    "import matplotlib.pyplot as plt\n",
    "import numpy as np\n",
    "import requests as r\n",
    "import openpyxl\n",
    "from io import BytesIO\n",
    "import datetime\n",
    "import mpl_axes_aligner\n",
    "from pydrive.auth import GoogleAuth\n",
    "from pydrive.drive import GoogleDrive"
   ]
  },
  {
   "cell_type": "code",
   "execution_count": 2,
   "id": "fac5a54c",
   "metadata": {},
   "outputs": [],
   "source": [
    "def auth_google():\n",
    "    gauth = GoogleAuth()\n",
    "    gauth.LoadCredentialsFile(\"credentials.json\")\n",
    "    if gauth.credentials is None: \n",
    "        gauth.LocalWebserverAuth()\n",
    "        gauth.SaveCredentialsFile(\"credentials.json\")\n",
    "    elif gauth.access_token_expired: \n",
    "        gauth.Refresh()\n",
    "    else: \n",
    "        gauth.Authorize()\n",
    "    drive = GoogleDrive(gauth)\n",
    "    \n",
    "    return drive\n",
    "drive = auth_google()"
   ]
  },
  {
   "cell_type": "code",
   "execution_count": 43,
   "id": "dec10633",
   "metadata": {},
   "outputs": [],
   "source": [
    "def read_files(drive): \n",
    "    folderID = '1JcFXUagRISwGaVHmmTzyJiXodLPSjaGhcuzkT7G_8EPdr5KvS2E8Baid7GWcd8S4B-HBE_kG'\n",
    "    file_list = drive.ListFile({'q': f\"'{folderID}' in parents and trashed=false\"}).GetList()\n",
    "    \n",
    "    tags = ['title', 'webContentLink', 'fileExtension']\n",
    "    \n",
    "    file_tags = [{tag: file[tag] for tag in tags} for file in file_list]\n",
    "\n",
    "    return file_tags\n",
    "file_tags = read_files(drive)"
   ]
  },
  {
   "cell_type": "code",
   "execution_count": 44,
   "id": "99cd6ba1",
   "metadata": {},
   "outputs": [
    {
     "data": {
      "text/plain": [
       "[GoogleDriveFile({'kind': 'drive#file', 'userPermission': {'id': 'me', 'type': 'user', 'role': 'owner', 'kind': 'drive#permission', 'selfLink': 'https://www.googleapis.com/drive/v2/files/1Pb0Bt4B5EdX2X2G_GJg3yiUdz23v-ECW/permissions/me', 'etag': '\"jifUC_cBFCVJRgYeNhpIJh5Lvzo\"', 'pendingOwner': False}, 'fileExtension': 'xlsx', 'md5Checksum': 'be5d8d319b139573ca9b59328825185e', 'selfLink': 'https://www.googleapis.com/drive/v2/files/1Pb0Bt4B5EdX2X2G_GJg3yiUdz23v-ECW', 'ownerNames': ['flowdata viz'], 'lastModifyingUserName': 'adamski.nicholas', 'editable': True, 'writersCanShare': True, 'downloadUrl': 'https://www.googleapis.com/drive/v2/files/1Pb0Bt4B5EdX2X2G_GJg3yiUdz23v-ECW?alt=media&source=downloadUrl', 'mimeType': 'application/vnd.openxmlformats-officedocument.spreadsheetml.sheet', 'parents': [{'selfLink': 'https://www.googleapis.com/drive/v2/files/1Pb0Bt4B5EdX2X2G_GJg3yiUdz23v-ECW/parents/1JcFXUagRISwGaVHmmTzyJiXodLPSjaGhcuzkT7G_8EPdr5KvS2E8Baid7GWcd8S4B-HBE_kG', 'id': '1JcFXUagRISwGaVHmmTzyJiXodLPSjaGhcuzkT7G_8EPdr5KvS2E8Baid7GWcd8S4B-HBE_kG', 'isRoot': False, 'kind': 'drive#parentReference', 'parentLink': 'https://www.googleapis.com/drive/v2/files/1JcFXUagRISwGaVHmmTzyJiXodLPSjaGhcuzkT7G_8EPdr5KvS2E8Baid7GWcd8S4B-HBE_kG'}], 'thumbnailLink': 'https://lh3.googleusercontent.com/drive-storage/AJQWtBMHzJbt1iOHrPaBs0Z7PysX-owjEXKtT876AOCElzqC3MMDhKybuvnkzCRzwWWXOlIqf3hUrKRRWJ68h6DxJ2n3XDG1xZky8niA7yzL10BJox4=s220', 'appDataContents': False, 'iconLink': 'https://drive-thirdparty.googleusercontent.com/16/type/application/vnd.openxmlformats-officedocument.spreadsheetml.sheet', 'shared': True, 'lastModifyingUser': {'displayName': 'adamski.nicholas', 'kind': 'drive#user', 'isAuthenticatedUser': False, 'permissionId': '03770011481768309078', 'emailAddress': 'adamski.nicholas@gmail.com', 'picture': {'url': 'https://lh3.googleusercontent.com/a-/ALV-UjXINupcyDHqSCOkd2TOeqmTvE6FFGB8jnZVeZM0x__F0QyE5Q=s64'}}, 'owners': [{'displayName': 'flowdata viz', 'kind': 'drive#user', 'isAuthenticatedUser': True, 'permissionId': '01336836069836600677', 'emailAddress': 'flowdataviz@gmail.com', 'picture': {'url': 'https://lh3.googleusercontent.com/a/ACg8ocIb2Mz_q14NejkSISFa0DcCIRNR3TDVtRp76AcIc85GzVGi7Q=s64'}}], 'headRevisionId': '0B01Mw1TaYCqPL0U1WlN5SkZmWlN3RktWbnBXZUNVRjk2ZllVPQ', 'copyable': True, 'etag': '\"MTcyNzYzNzA0MzE0Mw\"', 'sharingUser': {'displayName': 'adamski.nicholas', 'kind': 'drive#user', 'isAuthenticatedUser': False, 'permissionId': '03770011481768309078', 'emailAddress': 'adamski.nicholas@gmail.com', 'picture': {'url': 'https://lh3.googleusercontent.com/a-/ALV-UjXINupcyDHqSCOkd2TOeqmTvE6FFGB8jnZVeZM0x__F0QyE5Q=s64'}}, 'alternateLink': 'https://docs.google.com/spreadsheets/d/1Pb0Bt4B5EdX2X2G_GJg3yiUdz23v-ECW/edit?usp=drivesdk&ouid=103199660611175244094&rtpof=true&sd=true', 'embedLink': 'https://drive.google.com/file/d/1Pb0Bt4B5EdX2X2G_GJg3yiUdz23v-ECW/preview?usp=drivesdk', 'webContentLink': 'https://drive.google.com/uc?id=1Pb0Bt4B5EdX2X2G_GJg3yiUdz23v-ECW&export=download', 'fileSize': '458207', 'copyRequiresWriterPermission': False, 'spaces': ['drive'], 'id': '1Pb0Bt4B5EdX2X2G_GJg3yiUdz23v-ECW', 'title': 'Stenner compiled measurements_2023 Oct-Nov - nicholas adamski.xlsx', 'labels': {'viewed': False, 'restricted': False, 'starred': False, 'hidden': False, 'trashed': False}, 'explicitlyTrashed': False, 'createdDate': '2024-09-29T19:10:43.143Z', 'modifiedDate': '2024-09-29T19:10:43.143Z', 'markedViewedByMeDate': '1970-01-01T00:00:00.000Z', 'sharedWithMeDate': '2024-09-29T19:10:44.805Z', 'quotaBytesUsed': '458207', 'version': '4', 'originalFilename': 'Stenner compiled measurements_2023 Oct-Nov - nicholas adamski.xlsx', 'capabilities': {'canEdit': True, 'canCopy': True}})]"
      ]
     },
     "execution_count": 44,
     "metadata": {},
     "output_type": "execute_result"
    }
   ],
   "source": [
    "file_tags"
   ]
  },
  {
   "cell_type": "code",
   "execution_count": 39,
   "id": "e47deb43",
   "metadata": {},
   "outputs": [
    {
     "name": "stdout",
     "output_type": "stream",
     "text": [
      "4.483521461486816\n"
     ]
    }
   ],
   "source": [
    "start_time = time.time()\n",
    "\n",
    "\n",
    "response = r.get('https://drive.google.com/uc?id=1Pb0Bt4B5EdX2X2G_GJg3yiUdz23v-ECW&export=download')\n",
    "\n",
    "excel_file = pd.ExcelFile(BytesIO(response.content))\n",
    "df = pd.read_excel(test)\n",
    "\n",
    "print(time.time() - start_time)\n"
   ]
  },
  {
   "cell_type": "code",
   "execution_count": 40,
   "id": "47d365b9",
   "metadata": {},
   "outputs": [
    {
     "name": "stdout",
     "output_type": "stream",
     "text": [
      "3.2557766437530518\n"
     ]
    }
   ],
   "source": [
    "start_time = time.time()\n",
    "\n",
    "\n",
    "response = r.get('https://drive.google.com/uc?id=1Pb0Bt4B5EdX2X2G_GJg3yiUdz23v-ECW&export=download')\n",
    "\n",
    "excel_file = pd.ExcelFile(BytesIO(response.content))\n",
    "df = excel_file.parse(sheet_name = excel_file.sheet_names[0])\n",
    "\n",
    "print(time.time() - start_time)"
   ]
  },
  {
   "cell_type": "code",
   "execution_count": 35,
   "id": "ce43492e",
   "metadata": {},
   "outputs": [
    {
     "data": {
      "text/plain": [
       "'STUP 11-17-2023 0.35 cfs'"
      ]
     },
     "execution_count": 35,
     "metadata": {},
     "output_type": "execute_result"
    }
   ],
   "source": [
    "excel_file.sheet_names[0]"
   ]
  },
  {
   "cell_type": "code",
   "execution_count": 16,
   "id": "5aebf652",
   "metadata": {},
   "outputs": [],
   "source": [
    "sheet_id = '1mrbBkhl6TDZNPUTZkHOaRw6MqLU5VHyURoRnQNqZ7-M'\n",
    "url = \"https://docs.google.com/spreadsheets/export?exportFormat=xlsx&id=\" + sheet_id\n",
    "\n",
    "file = r.get(url)\n",
    "data = BytesIO(file.content)\n",
    "xlsx = pd.ExcelFile(data)"
   ]
  },
  {
   "cell_type": "code",
   "execution_count": 17,
   "id": "80b1e4b1",
   "metadata": {},
   "outputs": [],
   "source": [
    "flow_data = {}\n",
    "meta_data = {}\n",
    "\n",
    "for name in xlsx.sheet_names:\n",
    "    if name == 'Summary': \n",
    "        continue\n",
    "    if '!' in name: \n",
    "        continue\n",
    "    flow_data[name] = pd.read_excel(data, sheet_name = name, usecols='A:F', skiprows=12)\n",
    "    meta_data[name] = pd.read_excel(data, sheet_name = name, nrows = 12, header=None)"
   ]
  },
  {
   "cell_type": "code",
   "execution_count": 18,
   "id": "baca0e89",
   "metadata": {},
   "outputs": [
    {
     "name": "stdout",
     "output_type": "stream",
     "text": [
      "STUP 11-17-2023 0.35 cfs\n",
      "STUP 10-27-2023 0.36cfs\n",
      "Unnamed 11-3-2023 0.2cfs\n",
      "Unnamed 10-27-2023 0.21cfs\n",
      "STWB 11-17-2023 0.47 cfs\n",
      "STWB 11-3-2023 0.48cfs\n",
      "STWB 10-27-2023 0.71cfs\n"
     ]
    }
   ],
   "source": [
    "class Measurement(): \n",
    "    \n",
    "    \n",
    "    \n",
    "    def __init__(self, name):\n",
    "        self.name = name\n",
    "        \n",
    "        table_schema = {'station': [0, 3], \n",
    "                'coordinates': [0, 6], \n",
    "                'site_code': [0, 13],\n",
    "                'date': [2, 2], \n",
    "                'start_time': [2, 4],\n",
    "                'end_time': [3, 4],\n",
    "                'timezone': [2, 5], \n",
    "                'meter_type': [2, 13],\n",
    "                'crew': [4, 1, [4, 2]]}\n",
    "        \n",
    "        self.flow_data = flow_data[name].dropna()\n",
    "        self.discharge = self.flow_data['Dis-charge, ft3/s'].sum()\n",
    "        self.area = self.flow_data['Area, ft2'].sum()\n",
    "        self.average_velocity = self.discharge / self.area\n",
    "        self.max_observed_depth = self.flow_data['Depth'].max()\n",
    "        \n",
    "        \n",
    "        self.meta_table = meta_data[name]\n",
    "        for variable, coord in table_schema.items(): \n",
    "            self.__dict__[variable] = self.meta_table.iloc[coord[0], coord[1]]\n",
    "            \n",
    "            if pd.isnull(self.__dict__[variable]) and coord[2:]: \n",
    "                #If there is a backup location listed, use that instead. \n",
    "                self.__dict__[variable] = self.meta_table.iloc[coord[2][0], coord[2][1]]\n",
    "        if pd.isnull(self.site_code): \n",
    "            self.site_code = self.name.split(' ')[0]\n",
    "        print(name)\n",
    "        self.crew = self.crew.split(', ')\n",
    "        \n",
    "        \n",
    "list_measurements = [Measurement(name) for name in flow_data.keys()]\n",
    "list_dates = sorted(list(set([measurement.date for measurement in list_measurements])))\n",
    "sites = list(set([measurement.site_code for measurement in list_measurements]))"
   ]
  },
  {
   "cell_type": "code",
   "execution_count": 26,
   "id": "e105ac8a",
   "metadata": {},
   "outputs": [],
   "source": [
    "def plotmany(location, dates, variables, l_axis=False, r_axis=False): \n",
    "    fig, ax1 = plt.subplots()\n",
    "    \n",
    "    l_axis = l_axis or variables[0]\n",
    "    variables.remove(l_axis)\n",
    "    variables.insert(0, l_axis)\n",
    "    \n",
    "    if len(variables) > 1: \n",
    "        r_axis = r_axis or variables[1]\n",
    "        variables.remove(r_axis)\n",
    "        variables.insert(1, r_axis)\n",
    "    \n",
    "    data = [measure for measure in list_measurements if (measure.date in dates and measure.site_code == location)]\n",
    "    data = sorted(data, key = lambda x: x.date, reverse=True)\n",
    "    \n",
    "    alpha = 1\n",
    "    for measure in data: \n",
    "        measure.alpha = alpha\n",
    "        alpha = alpha - 1/(len(dates))\n",
    "    \n",
    "    ylabels = {'Depth': 'DEPTH, IN FEET', 'Velocity': 'VELOCITY, IN FT/S', 'Discharge': 'DISCHARGE, CFS'}\n",
    "    col_names = {'Depth': 'Depth', 'Velocity': 'V', 'Discharge': 'Dis-charge, ft3/s'}\n",
    "    color_dict = {'Depth': 'k', 'Velocity': 'C0', 'Discharge': 'C1'}\n",
    "    xlabel = 'DISTANCE ALONG SECTION, IN FEET'\n",
    "    \n",
    "    color = color_dict[l_axis]\n",
    "    ax1.set_ylabel(ylabels[l_axis], color=color)\n",
    "    ax1.set_xlabel(xlabel)\n",
    "    ax1.tick_params(axis='y', labelcolor=color)\n",
    "    \n",
    "    for measure in data: \n",
    "        ax1.plot(measure.flow_data['Dist. From initial point'], measure.flow_data[col_names[variables[0]]], alpha=measure.alpha, color=color)\n",
    "        \n",
    "    if r_axis: \n",
    "        ax2 = ax1.twinx()\n",
    "        color = color_dict[r_axis]\n",
    "        ax2.set_ylabel(ylabels[r_axis], color=color)\n",
    "        ax2.tick_params(axis='y', labelcolor=color)\n",
    "        for measure in data: \n",
    "            ax2.plot(measure.flow_data['Dist. From initial point'],measure.flow_data[col_names[variables[1]]], alpha=measure.alpha, color=color)\n",
    "        mpl_axes_aligner.align.yaxes(ax1, 0, ax2, 0, 0.1)\n",
    "    \n",
    "    if len(variables) == 3: \n",
    "        ax3 = ax1.twinx()\n",
    "        color = color_dict[variables[2]]\n",
    "        ax3.spines.right.set_position(('axes', 1.2))\n",
    "        ax3.tick_params(axis='y', labelcolor=color)\n",
    "        ax3.set_ylabel(ylabels[variables[2]], color=color)\n",
    "\n",
    "\n",
    "        for measure in data:\n",
    "            ax3.plot(measure.flow_data['Dist. From initial point'],measure.flow_data[col_names[variables[2]]], alpha=measure.alpha, color=color)\n",
    "        mpl_axes_aligner.align.yaxes(ax1, 0, ax3, 0, 0.1)\n",
    "    \n",
    "    \n",
    "    \n",
    "    \n",
    "    fig.tight_layout()\n",
    "    plt.show()\n",
    "    "
   ]
  },
  {
   "cell_type": "code",
   "execution_count": 27,
   "id": "78d884f6",
   "metadata": {},
   "outputs": [
    {
     "data": {
      "image/png": "[encoded data removed]",
      "text/plain": [
       "<Figure size 640x480 with 3 Axes>"
      ]
     },
     "metadata": {},
     "output_type": "display_data"
    }
   ],
   "source": [
    "plotmany('Unnamed', [datetime.datetime(2023, 11, 17, 0, 0), datetime.datetime(2023, 10, 27, 0, 0)], ['Velocity', 'Depth', 'Discharge'])"
   ]
  },
  {
   "cell_type": "code",
   "execution_count": null,
   "id": "2140def9",
   "metadata": {},
   "outputs": [],
   "source": []
  },
  {
   "cell_type": "code",
   "execution_count": null,
   "id": "1976313a",
   "metadata": {},
   "outputs": [],
   "source": [
    "from ipywidgets import interact, interactive, fixed, interact_manual\n",
    "import ipywidgets as widgets\n",
    "\n",
    "\n",
    "\n",
    "def f(location, dates, variables): \n",
    "    return plotmany(location, dates, list(variables))\n",
    "\n",
    "interact(f, \n",
    "         location = sites,\n",
    "         dates = widgets.SelectMultiple(\n",
    "                options = [(date.strftime('%d/%m/%Y'), date) for date in list_dates], \n",
    "                values = [list_dates[0]], \n",
    "                description = 'Dates'),\n",
    "         variables = widgets.SelectMultiple(\n",
    "                options = ['Depth', 'Velocity', 'Discharge'], \n",
    "                value = ['Depth'],\n",
    "                description = 'Variables'))"
   ]
  },
  {
   "cell_type": "code",
   "execution_count": null,
   "id": "c93a0d96",
   "metadata": {},
   "outputs": [],
   "source": []
  },
  {
   "cell_type": "code",
   "execution_count": null,
   "id": "d9923ce5",
   "metadata": {},
   "outputs": [],
   "source": [
    "import io\n",
    "\n",
    "\n",
    "url_base = 'https://wr.slocountywater.org/export/file/'\n",
    "\n",
    "args = {'site_id': '29', \n",
    "        'site' : '5952eafd-17d9-4cb6-a6dd-c949a99525f0', \n",
    "        'device_id': '1',\n",
    "        'device': '1c308219-4b72-4307-a5c0-76ed02cdba41',\n",
    "        'mode' : '',\n",
    "        'hours' : '',\n",
    "        'data_start' : datetime.datetime(2024, 9, 1, 0, 0).strftime('%Y-%m-%d %H:%M:%S'),\n",
    "        'data_end' : datetime.datetime.now().strftime('%Y-%m-%d %H:%M:%S'),\n",
    "        'tz' : 'US%2FPacific',\n",
    "        'format_datetime' : '%25Y-%25m-%25d+%25H%3A%25i%3A%25S',\n",
    "        'mime' : 'txt',\n",
    "        'delimiter' : 'comma'}\n",
    "\n",
    "url = url_base + '?' + '&'.join(['='.join([key, value]) for key, value in args.items()])\n",
    "\n",
    "response = r.get(url)\n",
    "\n",
    "\n",
    "csv_data = io.StringIO(response.text)\n",
    "df = pd.read_csv(csv_data)"
   ]
  },
  {
   "cell_type": "code",
   "execution_count": 184,
   "id": "68041b20",
   "metadata": {
    "scrolled": false
   },
   "outputs": [
    {
     "data": {
      "text/html": [
       "<div>\n",
       "<style scoped>\n",
       "    .dataframe tbody tr th:only-of-type {\n",
       "        vertical-align: middle;\n",
       "    }\n",
       "\n",
       "    .dataframe tbody tr th {\n",
       "        vertical-align: top;\n",
       "    }\n",
       "\n",
       "    .dataframe thead th {\n",
       "        text-align: right;\n",
       "    }\n",
       "</style>\n",
       "<table border=\"1\" class=\"dataframe\">\n",
       "  <thead>\n",
       "    <tr style=\"text-align: right;\">\n",
       "      <th></th>\n",
       "      <th>Location</th>\n",
       "      <th>Date</th>\n",
       "      <th>Max Depth (ft)</th>\n",
       "      <th>Avg Depth (ft)</th>\n",
       "      <th>Total Discharge (CFS)</th>\n",
       "      <th>Average Velocity (ft/s)</th>\n",
       "      <th>delta</th>\n",
       "    </tr>\n",
       "  </thead>\n",
       "  <tbody>\n",
       "    <tr>\n",
       "      <th>0</th>\n",
       "      <td>Unnamed</td>\n",
       "      <td>2023-11-03</td>\n",
       "      <td>0.40</td>\n",
       "      <td>0.11</td>\n",
       "      <td>0.20</td>\n",
       "      <td>0.20</td>\n",
       "      <td>False</td>\n",
       "    </tr>\n",
       "    <tr>\n",
       "      <th>1</th>\n",
       "      <td>Unnamed</td>\n",
       "      <td>2023-11-03</td>\n",
       "      <td>-0.01</td>\n",
       "      <td>0.00</td>\n",
       "      <td>-0.01</td>\n",
       "      <td>0.00</td>\n",
       "      <td>True</td>\n",
       "    </tr>\n",
       "    <tr>\n",
       "      <th>2</th>\n",
       "      <td>Unnamed</td>\n",
       "      <td>2023-10-27</td>\n",
       "      <td>0.41</td>\n",
       "      <td>0.11</td>\n",
       "      <td>0.21</td>\n",
       "      <td>0.20</td>\n",
       "      <td>False</td>\n",
       "    </tr>\n",
       "    <tr>\n",
       "      <th>3</th>\n",
       "      <td>STWB</td>\n",
       "      <td>2023-11-17</td>\n",
       "      <td>0.65</td>\n",
       "      <td>0.05</td>\n",
       "      <td>0.47</td>\n",
       "      <td>0.10</td>\n",
       "      <td>False</td>\n",
       "    </tr>\n",
       "    <tr>\n",
       "      <th>4</th>\n",
       "      <td>STWB</td>\n",
       "      <td>2023-11-17</td>\n",
       "      <td>-0.03</td>\n",
       "      <td>0.00</td>\n",
       "      <td>-0.01</td>\n",
       "      <td>0.00</td>\n",
       "      <td>True</td>\n",
       "    </tr>\n",
       "    <tr>\n",
       "      <th>5</th>\n",
       "      <td>STWB</td>\n",
       "      <td>2023-11-03</td>\n",
       "      <td>0.68</td>\n",
       "      <td>0.05</td>\n",
       "      <td>0.48</td>\n",
       "      <td>0.10</td>\n",
       "      <td>False</td>\n",
       "    </tr>\n",
       "    <tr>\n",
       "      <th>6</th>\n",
       "      <td>STWB</td>\n",
       "      <td>2023-11-03</td>\n",
       "      <td>-0.02</td>\n",
       "      <td>-0.01</td>\n",
       "      <td>-0.23</td>\n",
       "      <td>-0.05</td>\n",
       "      <td>True</td>\n",
       "    </tr>\n",
       "    <tr>\n",
       "      <th>7</th>\n",
       "      <td>STWB</td>\n",
       "      <td>2023-10-27</td>\n",
       "      <td>0.70</td>\n",
       "      <td>0.06</td>\n",
       "      <td>0.71</td>\n",
       "      <td>0.15</td>\n",
       "      <td>False</td>\n",
       "    </tr>\n",
       "    <tr>\n",
       "      <th>8</th>\n",
       "      <td>STUP</td>\n",
       "      <td>2023-11-17</td>\n",
       "      <td>0.80</td>\n",
       "      <td>0.10</td>\n",
       "      <td>0.35</td>\n",
       "      <td>0.07</td>\n",
       "      <td>False</td>\n",
       "    </tr>\n",
       "    <tr>\n",
       "      <th>9</th>\n",
       "      <td>STUP</td>\n",
       "      <td>2023-11-17</td>\n",
       "      <td>-0.36</td>\n",
       "      <td>-0.02</td>\n",
       "      <td>-0.01</td>\n",
       "      <td>0.02</td>\n",
       "      <td>True</td>\n",
       "    </tr>\n",
       "    <tr>\n",
       "      <th>10</th>\n",
       "      <td>STUP</td>\n",
       "      <td>2023-10-27</td>\n",
       "      <td>1.16</td>\n",
       "      <td>0.12</td>\n",
       "      <td>0.36</td>\n",
       "      <td>0.05</td>\n",
       "      <td>False</td>\n",
       "    </tr>\n",
       "  </tbody>\n",
       "</table>\n",
       "</div>"
      ],
      "text/plain": [
       "   Location        Date  Max Depth (ft)  Avg Depth (ft)  \\\n",
       "0   Unnamed  2023-11-03            0.40            0.11   \n",
       "1   Unnamed  2023-11-03           -0.01            0.00   \n",
       "2   Unnamed  2023-10-27            0.41            0.11   \n",
       "3      STWB  2023-11-17            0.65            0.05   \n",
       "4      STWB  2023-11-17           -0.03            0.00   \n",
       "5      STWB  2023-11-03            0.68            0.05   \n",
       "6      STWB  2023-11-03           -0.02           -0.01   \n",
       "7      STWB  2023-10-27            0.70            0.06   \n",
       "8      STUP  2023-11-17            0.80            0.10   \n",
       "9      STUP  2023-11-17           -0.36           -0.02   \n",
       "10     STUP  2023-10-27            1.16            0.12   \n",
       "\n",
       "    Total Discharge (CFS)  Average Velocity (ft/s)  delta  \n",
       "0                    0.20                     0.20  False  \n",
       "1                   -0.01                     0.00   True  \n",
       "2                    0.21                     0.20  False  \n",
       "3                    0.47                     0.10  False  \n",
       "4                   -0.01                     0.00   True  \n",
       "5                    0.48                     0.10  False  \n",
       "6                   -0.23                    -0.05   True  \n",
       "7                    0.71                     0.15  False  \n",
       "8                    0.35                     0.07  False  \n",
       "9                   -0.01                     0.02   True  \n",
       "10                   0.36                     0.05  False  "
      ]
     },
     "execution_count": 184,
     "metadata": {},
     "output_type": "execute_result"
    }
   ],
   "source": [
    "statistics = [[measure.site_code,\n",
    "               measure.date.date(),\n",
    "               measure.max_observed_depth, \n",
    "               measure.max_observed_depth/(measure.flow_data.iloc[-1,0]-measure.flow_data.iloc[0,0]),\n",
    "               measure.discharge, \n",
    "               measure.average_velocity] for measure in list_measurements]\n",
    "\n",
    "\n",
    "statistics = pd.DataFrame(statistics)\n",
    "statistics.columns = ['Location', 'Date', 'Max Depth (ft)', 'Avg Depth (ft)', 'Total Discharge (CFS)', 'Average Velocity (ft/s)']\n",
    "statistics = statistics.round(2).sort_values(['Location', 'Date']).set_index(['Location', 'Date'])\n",
    "\n",
    "diff = (statistics - statistics.shift(1)).groupby('Location').apply(lambda group: group.iloc[1:, :])\n",
    "diff.index = diff.index.droplevel(0)\n",
    "diff['delta'] = True\n",
    "statistics['delta']=False\n",
    "\n",
    "joined = pd.concat([statistics, diff],axis = 0).sort_values(['Location', 'Date', 'delta'], ascending=[False, False, True]).reset_index()\n",
    "joined"
   ]
  },
  {
   "cell_type": "code",
   "execution_count": null,
   "id": "7fb5cce1",
   "metadata": {},
   "outputs": [],
   "source": []
  },
  {
   "cell_type": "code",
   "execution_count": 183,
   "id": "bf164225",
   "metadata": {},
   "outputs": [
    {
     "data": {
      "text/html": [
       "<style type=\"text/css\">\n",
       "#T_3e0ea_row1_col2, #T_3e0ea_row1_col4, #T_3e0ea_row4_col2, #T_3e0ea_row4_col4, #T_3e0ea_row6_col2, #T_3e0ea_row6_col3, #T_3e0ea_row6_col4, #T_3e0ea_row6_col5, #T_3e0ea_row9_col2, #T_3e0ea_row9_col3, #T_3e0ea_row9_col4 {\n",
       "  background-color: salmon;\n",
       "}\n",
       "#T_3e0ea_row1_col3, #T_3e0ea_row1_col5, #T_3e0ea_row4_col3, #T_3e0ea_row4_col5 {\n",
       "  background-color: lightgray;\n",
       "}\n",
       "#T_3e0ea_row9_col5 {\n",
       "  background-color: palegreen;\n",
       "}\n",
       "</style>\n",
       "<table id=\"T_3e0ea\">\n",
       "  <thead>\n",
       "    <tr>\n",
       "      <th id=\"T_3e0ea_level0_col0\" class=\"col_heading level0 col0\" >Location</th>\n",
       "      <th id=\"T_3e0ea_level0_col1\" class=\"col_heading level0 col1\" >Date</th>\n",
       "      <th id=\"T_3e0ea_level0_col2\" class=\"col_heading level0 col2\" >Max Depth (ft)</th>\n",
       "      <th id=\"T_3e0ea_level0_col3\" class=\"col_heading level0 col3\" >Avg Depth (ft)</th>\n",
       "      <th id=\"T_3e0ea_level0_col4\" class=\"col_heading level0 col4\" >Total Discharge (CFS)</th>\n",
       "      <th id=\"T_3e0ea_level0_col5\" class=\"col_heading level0 col5\" >Average Velocity (ft/s)</th>\n",
       "    </tr>\n",
       "  </thead>\n",
       "  <tbody>\n",
       "    <tr>\n",
       "      <td id=\"T_3e0ea_row0_col0\" class=\"data row0 col0\" >Unnamed</td>\n",
       "      <td id=\"T_3e0ea_row0_col1\" class=\"data row0 col1\" >2023-11-03</td>\n",
       "      <td id=\"T_3e0ea_row0_col2\" class=\"data row0 col2\" >0.40</td>\n",
       "      <td id=\"T_3e0ea_row0_col3\" class=\"data row0 col3\" >0.11</td>\n",
       "      <td id=\"T_3e0ea_row0_col4\" class=\"data row0 col4\" >0.20</td>\n",
       "      <td id=\"T_3e0ea_row0_col5\" class=\"data row0 col5\" >0.20</td>\n",
       "    </tr>\n",
       "    <tr>\n",
       "      <td id=\"T_3e0ea_row1_col0\" class=\"data row1 col0\" >Unnamed</td>\n",
       "      <td id=\"T_3e0ea_row1_col1\" class=\"data row1 col1\" >2023-11-03</td>\n",
       "      <td id=\"T_3e0ea_row1_col2\" class=\"data row1 col2\" >-0.01</td>\n",
       "      <td id=\"T_3e0ea_row1_col3\" class=\"data row1 col3\" >0.00</td>\n",
       "      <td id=\"T_3e0ea_row1_col4\" class=\"data row1 col4\" >-0.01</td>\n",
       "      <td id=\"T_3e0ea_row1_col5\" class=\"data row1 col5\" >0.00</td>\n",
       "    </tr>\n",
       "    <tr>\n",
       "      <td id=\"T_3e0ea_row2_col0\" class=\"data row2 col0\" >Unnamed</td>\n",
       "      <td id=\"T_3e0ea_row2_col1\" class=\"data row2 col1\" >2023-10-27</td>\n",
       "      <td id=\"T_3e0ea_row2_col2\" class=\"data row2 col2\" >0.41</td>\n",
       "      <td id=\"T_3e0ea_row2_col3\" class=\"data row2 col3\" >0.11</td>\n",
       "      <td id=\"T_3e0ea_row2_col4\" class=\"data row2 col4\" >0.21</td>\n",
       "      <td id=\"T_3e0ea_row2_col5\" class=\"data row2 col5\" >0.20</td>\n",
       "    </tr>\n",
       "    <tr>\n",
       "      <td id=\"T_3e0ea_row3_col0\" class=\"data row3 col0\" >STWB</td>\n",
       "      <td id=\"T_3e0ea_row3_col1\" class=\"data row3 col1\" >2023-11-17</td>\n",
       "      <td id=\"T_3e0ea_row3_col2\" class=\"data row3 col2\" >0.65</td>\n",
       "      <td id=\"T_3e0ea_row3_col3\" class=\"data row3 col3\" >0.05</td>\n",
       "      <td id=\"T_3e0ea_row3_col4\" class=\"data row3 col4\" >0.47</td>\n",
       "      <td id=\"T_3e0ea_row3_col5\" class=\"data row3 col5\" >0.10</td>\n",
       "    </tr>\n",
       "    <tr>\n",
       "      <td id=\"T_3e0ea_row4_col0\" class=\"data row4 col0\" >STWB</td>\n",
       "      <td id=\"T_3e0ea_row4_col1\" class=\"data row4 col1\" >2023-11-17</td>\n",
       "      <td id=\"T_3e0ea_row4_col2\" class=\"data row4 col2\" >-0.03</td>\n",
       "      <td id=\"T_3e0ea_row4_col3\" class=\"data row4 col3\" >0.00</td>\n",
       "      <td id=\"T_3e0ea_row4_col4\" class=\"data row4 col4\" >-0.01</td>\n",
       "      <td id=\"T_3e0ea_row4_col5\" class=\"data row4 col5\" >0.00</td>\n",
       "    </tr>\n",
       "    <tr>\n",
       "      <td id=\"T_3e0ea_row5_col0\" class=\"data row5 col0\" >STWB</td>\n",
       "      <td id=\"T_3e0ea_row5_col1\" class=\"data row5 col1\" >2023-11-03</td>\n",
       "      <td id=\"T_3e0ea_row5_col2\" class=\"data row5 col2\" >0.68</td>\n",
       "      <td id=\"T_3e0ea_row5_col3\" class=\"data row5 col3\" >0.05</td>\n",
       "      <td id=\"T_3e0ea_row5_col4\" class=\"data row5 col4\" >0.48</td>\n",
       "      <td id=\"T_3e0ea_row5_col5\" class=\"data row5 col5\" >0.10</td>\n",
       "    </tr>\n",
       "    <tr>\n",
       "      <td id=\"T_3e0ea_row6_col0\" class=\"data row6 col0\" >STWB</td>\n",
       "      <td id=\"T_3e0ea_row6_col1\" class=\"data row6 col1\" >2023-11-03</td>\n",
       "      <td id=\"T_3e0ea_row6_col2\" class=\"data row6 col2\" >-0.02</td>\n",
       "      <td id=\"T_3e0ea_row6_col3\" class=\"data row6 col3\" >-0.01</td>\n",
       "      <td id=\"T_3e0ea_row6_col4\" class=\"data row6 col4\" >-0.23</td>\n",
       "      <td id=\"T_3e0ea_row6_col5\" class=\"data row6 col5\" >-0.05</td>\n",
       "    </tr>\n",
       "    <tr>\n",
       "      <td id=\"T_3e0ea_row7_col0\" class=\"data row7 col0\" >STWB</td>\n",
       "      <td id=\"T_3e0ea_row7_col1\" class=\"data row7 col1\" >2023-10-27</td>\n",
       "      <td id=\"T_3e0ea_row7_col2\" class=\"data row7 col2\" >0.70</td>\n",
       "      <td id=\"T_3e0ea_row7_col3\" class=\"data row7 col3\" >0.06</td>\n",
       "      <td id=\"T_3e0ea_row7_col4\" class=\"data row7 col4\" >0.71</td>\n",
       "      <td id=\"T_3e0ea_row7_col5\" class=\"data row7 col5\" >0.15</td>\n",
       "    </tr>\n",
       "    <tr>\n",
       "      <td id=\"T_3e0ea_row8_col0\" class=\"data row8 col0\" >STUP</td>\n",
       "      <td id=\"T_3e0ea_row8_col1\" class=\"data row8 col1\" >2023-11-17</td>\n",
       "      <td id=\"T_3e0ea_row8_col2\" class=\"data row8 col2\" >0.80</td>\n",
       "      <td id=\"T_3e0ea_row8_col3\" class=\"data row8 col3\" >0.10</td>\n",
       "      <td id=\"T_3e0ea_row8_col4\" class=\"data row8 col4\" >0.35</td>\n",
       "      <td id=\"T_3e0ea_row8_col5\" class=\"data row8 col5\" >0.07</td>\n",
       "    </tr>\n",
       "    <tr>\n",
       "      <td id=\"T_3e0ea_row9_col0\" class=\"data row9 col0\" >STUP</td>\n",
       "      <td id=\"T_3e0ea_row9_col1\" class=\"data row9 col1\" >2023-11-17</td>\n",
       "      <td id=\"T_3e0ea_row9_col2\" class=\"data row9 col2\" >-0.36</td>\n",
       "      <td id=\"T_3e0ea_row9_col3\" class=\"data row9 col3\" >-0.02</td>\n",
       "      <td id=\"T_3e0ea_row9_col4\" class=\"data row9 col4\" >-0.01</td>\n",
       "      <td id=\"T_3e0ea_row9_col5\" class=\"data row9 col5\" >0.02</td>\n",
       "    </tr>\n",
       "    <tr>\n",
       "      <td id=\"T_3e0ea_row10_col0\" class=\"data row10 col0\" >STUP</td>\n",
       "      <td id=\"T_3e0ea_row10_col1\" class=\"data row10 col1\" >2023-10-27</td>\n",
       "      <td id=\"T_3e0ea_row10_col2\" class=\"data row10 col2\" >1.16</td>\n",
       "      <td id=\"T_3e0ea_row10_col3\" class=\"data row10 col3\" >0.12</td>\n",
       "      <td id=\"T_3e0ea_row10_col4\" class=\"data row10 col4\" >0.36</td>\n",
       "      <td id=\"T_3e0ea_row10_col5\" class=\"data row10 col5\" >0.05</td>\n",
       "    </tr>\n",
       "  </tbody>\n",
       "</table>\n"
      ],
      "text/plain": [
       "<pandas.io.formats.style.Styler at 0x7f70fd21b670>"
      ]
     },
     "execution_count": 183,
     "metadata": {},
     "output_type": "execute_result"
    }
   ],
   "source": [
    "def color_red_green(val): \n",
    "    if val.delta: \n",
    "        return np.select([val < 0, val > 0, val == 0], ['background-color: salmon', 'background-color: palegreen', 'background-color: lightgray'])\n",
    "    else: \n",
    "        return [\"\"] * len(val)\n",
    "\n",
    "joined.style.apply(color_red_green,subset=['Max Depth (ft)', 'Avg Depth (ft)', 'Total Discharge (CFS)', 'Average Velocity (ft/s)', 'delta'], axis=1).hide('delta', axis=1).hide(axis='index').format(precision=2)"
   ]
  },
  {
   "cell_type": "code",
   "execution_count": 188,
   "id": "f6452263",
   "metadata": {},
   "outputs": [
    {
     "data": {
      "text/plain": [
       "0"
      ]
     },
     "execution_count": 188,
     "metadata": {},
     "output_type": "execute_result"
    }
   ],
   "source": [
    "statistics.delta\\\n",
    "          .sum()"
   ]
  },
  {
   "cell_type": "code",
   "execution_count": 3,
   "id": "58bf136d",
   "metadata": {},
   "outputs": [],
   "source": [
    "import dash"
   ]
  },
  {
   "cell_type": "code",
   "execution_count": 5,
   "id": "615bd60c",
   "metadata": {},
   "outputs": [],
   "source": [
    "from dash import Dash, html, dcc, callback, Output, Input\n",
    "import plotly.express as px\n",
    "import pandas as pd\n",
    "\n",
    "app = Dash()\n",
    "app.layout = [\n",
    "    html.H1(children='Waterflow measurements', style = {'textAlign': 'center'}), \n",
    "    dcc.Dropdown()\n",
    "]"
   ]
  },
  {
   "cell_type": "code",
   "execution_count": 6,
   "id": "d96c4344",
   "metadata": {},
   "outputs": [
    {
     "data": {
      "text/plain": [
       "['', '', '', '', '', '']"
      ]
     },
     "execution_count": 6,
     "metadata": {},
     "output_type": "execute_result"
    }
   ],
   "source": [
    "['']*6"
   ]
  },
  {
   "cell_type": "code",
   "execution_count": null,
   "id": "2fe724bf",
   "metadata": {},
   "outputs": [],
   "source": []
  },
  {
   "cell_type": "code",
   "execution_count": 11,
   "id": "771dd36e",
   "metadata": {},
   "outputs": [
    {
     "data": {
      "text/html": [
       "<div>\n",
       "<style scoped>\n",
       "    .dataframe tbody tr th:only-of-type {\n",
       "        vertical-align: middle;\n",
       "    }\n",
       "\n",
       "    .dataframe tbody tr th {\n",
       "        vertical-align: top;\n",
       "    }\n",
       "\n",
       "    .dataframe thead th {\n",
       "        text-align: right;\n",
       "    }\n",
       "</style>\n",
       "<table border=\"1\" class=\"dataframe\">\n",
       "  <thead>\n",
       "    <tr style=\"text-align: right;\">\n",
       "      <th></th>\n",
       "      <th>Location</th>\n",
       "      <th>Date</th>\n",
       "      <th>Max Depth (ft)</th>\n",
       "      <th>Avg Depth (ft)</th>\n",
       "      <th>Total Discharge (CFS)</th>\n",
       "      <th>Average Velocity (ft/s)</th>\n",
       "    </tr>\n",
       "  </thead>\n",
       "  <tbody>\n",
       "  </tbody>\n",
       "</table>\n",
       "</div>"
      ],
      "text/plain": [
       "Empty DataFrame\n",
       "Columns: [Location, Date, Max Depth (ft), Avg Depth (ft), Total Discharge (CFS), Average Velocity (ft/s)]\n",
       "Index: []"
      ]
     },
     "execution_count": 11,
     "metadata": {},
     "output_type": "execute_result"
    }
   ],
   "source": [
    "statistics = pd.DataFrame(columns = ['Location', 'Date', 'Max Depth (ft)', 'Avg Depth (ft)', \n",
    "                          'Total Discharge (CFS)', 'Average Velocity (ft/s)'])\n",
    "\n",
    "statistics"
   ]
  },
  {
   "cell_type": "code",
   "execution_count": 13,
   "id": "0db84231",
   "metadata": {},
   "outputs": [
    {
     "ename": "NameError",
     "evalue": "name 'flow_data' is not defined",
     "output_type": "error",
     "traceback": [
      "\u001b[0;31m---------------------------------------------------------------------------\u001b[0m",
      "\u001b[0;31mNameError\u001b[0m                                 Traceback (most recent call last)",
      "Cell \u001b[0;32mIn[13], line 1\u001b[0m\n\u001b[0;32m----> 1\u001b[0m \u001b[43mflow_data\u001b[49m\n",
      "\u001b[0;31mNameError\u001b[0m: name 'flow_data' is not defined"
     ]
    }
   ],
   "source": []
  },
  {
   "cell_type": "code",
   "execution_count": 25,
   "id": "28c72fb5",
   "metadata": {},
   "outputs": [
    {
     "data": {
      "text/plain": [
       "0      1.5\n",
       "1     1.51\n",
       "2      1.9\n",
       "3      2.3\n",
       "4      2.7\n",
       "5      3.1\n",
       "6      3.5\n",
       "7      3.9\n",
       "8      4.3\n",
       "9      4.7\n",
       "10     5.1\n",
       "11     5.5\n",
       "12     5.9\n",
       "13     6.3\n",
       "14     6.7\n",
       "15     7.1\n",
       "16     7.5\n",
       "17     7.9\n",
       "18     8.3\n",
       "19     8.7\n",
       "20     9.1\n",
       "21     9.5\n",
       "22     9.8\n",
       "Name: Dist. From initial point, dtype: object"
      ]
     },
     "execution_count": 25,
     "metadata": {},
     "output_type": "execute_result"
    }
   ],
   "source": [
    "list_measurements[0].flow_data['Dist. From initial point']"
   ]
  },
  {
   "cell_type": "code",
   "execution_count": 19,
   "id": "8e06cdc3",
   "metadata": {},
   "outputs": [
    {
     "ename": "NameError",
     "evalue": "name 'measurements' is not defined",
     "output_type": "error",
     "traceback": [
      "\u001b[0;31m---------------------------------------------------------------------------\u001b[0m",
      "\u001b[0;31mNameError\u001b[0m                                 Traceback (most recent call last)",
      "Cell \u001b[0;32mIn[19], line 1\u001b[0m\n\u001b[0;32m----> 1\u001b[0m \u001b[43mmeasurements\u001b[49m\n",
      "\u001b[0;31mNameError\u001b[0m: name 'measurements' is not defined"
     ]
    }
   ],
   "source": []
  },
  {
   "cell_type": "code",
   "execution_count": 9,
   "id": "e9a4a797",
   "metadata": {},
   "outputs": [],
   "source": [
    "class A(): \n",
    "    b = [1]\n",
    "    def __init__(self): \n",
    "        self.a = self.b"
   ]
  },
  {
   "cell_type": "code",
   "execution_count": 13,
   "id": "b3c9db87",
   "metadata": {},
   "outputs": [
    {
     "data": {
      "text/plain": [
       "[1]"
      ]
     },
     "execution_count": 13,
     "metadata": {},
     "output_type": "execute_result"
    }
   ],
   "source": [
    "B = A()\n",
    "B.b"
   ]
  },
  {
   "cell_type": "code",
   "execution_count": null,
   "id": "8b90ee56",
   "metadata": {},
   "outputs": [],
   "source": []
  }
 ],
 "metadata": {
  "kernelspec": {
   "display_name": "Python 3 (ipykernel)",
   "language": "python",
   "name": "python3"
  },
  "language_info": {
   "codemirror_mode": {
    "name": "ipython",
    "version": 3
   },
   "file_extension": ".py",
   "mimetype": "text/x-python",
   "name": "python",
   "nbconvert_exporter": "python",
   "pygments_lexer": "ipython3",
   "version": "3.10.12"
  }
 },
 "nbformat": 4,
 "nbformat_minor": 5
}
