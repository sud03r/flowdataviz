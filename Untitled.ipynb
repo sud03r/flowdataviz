{
 "cells": [
  {
   "cell_type": "code",
   "execution_count": 3,
   "id": "311b14ca",
   "metadata": {},
   "outputs": [
    {
     "name": "stdout",
     "output_type": "stream",
     "text": [
      "STUP 11-17-2023 0.35 cfs\n",
      "STUP 10-27-2023 0.36cfs\n",
      "Unnamed 11-3-2023 0.2cfs\n",
      "Unnamed 10-27-2023 0.21cfs\n",
      "STWB 11-17-2023 0.47 cfs\n",
      "STWB 11-3-2023 0.48cfs\n",
      "STWB 10-27-2023 0.71cfs\n"
     ]
    },
    {
     "data": {
      "application/vnd.jupyter.widget-view+json": {
       "model_id": "63bb4d1b0b6c46a8bd5a1b8a1ecd5b0b",
       "version_major": 2,
       "version_minor": 0
      },
      "text/plain": [
       "interactive(children=(Dropdown(description='location', options=('STUP', 'STWB', 'Unnamed'), value='STUP'), Sel…"
      ]
     },
     "metadata": {},
     "output_type": "display_data"
    },
    {
     "data": {
      "text/plain": [
       "<function __main__.f(location, dates, variables)>"
      ]
     },
     "execution_count": 3,
     "metadata": {},
     "output_type": "execute_result"
    }
   ],
   "source": [
    "import watershed_functions\n",
    "from ipywidgets import interact, interactive, fixed, interact_manual\n",
    "import ipywidgets as widgets\n",
    "\n",
    "measurements, list_dates, list_sites = watershed_functions.get_measurements()\n",
    "\n",
    "def f(location, dates, variables): \n",
    "    return watershed_functions.plotmany(measurements, location, dates, list(variables))\n",
    "\n",
    "interact(f, \n",
    "         location = list_sites,\n",
    "         dates = widgets.SelectMultiple(\n",
    "                options = [(date.strftime('%d/%m/%Y'), date) for date in list_dates], \n",
    "                values = [list_dates[0]], \n",
    "                description = 'Dates'),\n",
    "         variables = widgets.SelectMultiple(\n",
    "                options = ['Depth', 'Velocity', 'Discharge'], \n",
    "                value = ['Depth'],\n",
    "                description = 'Variables'))"
   ]
  },
  {
   "cell_type": "code",
   "execution_count": null,
   "id": "a8a52e52",
   "metadata": {},
   "outputs": [],
   "source": []
  }
 ],
 "metadata": {
  "kernelspec": {
   "display_name": "Python 3 (ipykernel)",
   "language": "python",
   "name": "python3"
  },
  "language_info": {
   "codemirror_mode": {
    "name": "ipython",
    "version": 3
   },
   "file_extension": ".py",
   "mimetype": "text/x-python",
   "name": "python",
   "nbconvert_exporter": "python",
   "pygments_lexer": "ipython3",
   "version": "3.10.12"
  }
 },
 "nbformat": 4,
 "nbformat_minor": 5
}
