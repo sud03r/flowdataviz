{
 "cells": [
  {
   "cell_type": "code",
   "execution_count": 2,
   "id": "311b14ca",
   "metadata": {
    "scrolled": false
   },
   "outputs": [
    {
     "data": {
      "application/vnd.jupyter.widget-view+json": {
       "model_id": "39f61a5792e94c2696a185d50edcf3c7",
       "version_major": 2,
       "version_minor": 0
      },
      "text/plain": [
       "interactive(children=(Dropdown(description='location', options=('Unnamed', 'STWB', 'STUP'), value='Unnamed'), …"
      ]
     },
     "metadata": {},
     "output_type": "display_data"
    },
    {
     "data": {
      "text/plain": [
       "<function __main__.f(location, dates, variables)>"
      ]
     },
     "execution_count": 2,
     "metadata": {},
     "output_type": "execute_result"
    }
   ],
   "source": [
    "import data_input, visualizer\n",
    "\n",
    "\n",
    "from ipywidgets import interact, interactive, fixed, interact_manual\n",
    "from IPython.display import display\n",
    "import ipywidgets as widgets\n",
    "\n",
    "measurements, list_dates, list_sites = data_input.get_measurements()\n",
    "\n",
    "def f(location, dates, variables): \n",
    "    visualizer.plotmany(measurements, location, dates, list(variables))\n",
    "    display(visualizer.display_statistics([measure for measure in measurements if (measure.site_code == location) and (measure.date in dates)]))\n",
    "\n",
    "interact(f, \n",
    "         location = list_sites,\n",
    "         dates = widgets.SelectMultiple(\n",
    "                options = [(date.strftime('%d/%m/%Y'), date) for date in list_dates], \n",
    "                values = [list_dates[0]], \n",
    "                description = 'Dates'),\n",
    "         variables = widgets.SelectMultiple(\n",
    "                options = ['Depth', 'Velocity', 'Discharge'], \n",
    "                value = ['Depth'],\n",
    "                description = 'Variables'))\n"
   ]
  },
  {
   "cell_type": "code",
   "execution_count": null,
   "id": "a8a52e52",
   "metadata": {},
   "outputs": [],
   "source": []
  },
  {
   "cell_type": "code",
   "execution_count": null,
   "id": "12b9bfc3",
   "metadata": {},
   "outputs": [],
   "source": []
  }
 ],
 "metadata": {
  "kernelspec": {
   "display_name": "Python 3 (ipykernel)",
   "language": "python",
   "name": "python3"
  },
  "language_info": {
   "codemirror_mode": {
    "name": "ipython",
    "version": 3
   },
   "file_extension": ".py",
   "mimetype": "text/x-python",
   "name": "python",
   "nbconvert_exporter": "python",
   "pygments_lexer": "ipython3",
   "version": "3.10.12"
  }
 },
 "nbformat": 4,
 "nbformat_minor": 5
}
